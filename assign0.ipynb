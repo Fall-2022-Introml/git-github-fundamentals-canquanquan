{
 "cells": [
  {
   "cell_type": "markdown",
   "id": "bbfe62f9",
   "metadata": {},
   "source": [
    "## ASSIGN 0"
   ]
  },
  {
   "cell_type": "markdown",
   "id": "b9919da5",
   "metadata": {},
   "source": [
    "### Markdown"
   ]
  },
  {
   "cell_type": "markdown",
   "id": "8cd66a38",
   "metadata": {},
   "source": [
    "According to [Markdown Guide](markdownguide.org), Markdown is a lightweight markup language. It is widely used for websites, documents, notes, etc. It is also portable and platform independent. Markdown is fast and easy to learn as the users can easily create titles, links, bullet points, paragraphs, insert graphs, etc. Most of its syntax can be found on [Markdown Guide Cheat Sheet](https://www.markdownguide.org/cheat-sheet/)."
   ]
  },
  {
   "cell_type": "markdown",
   "id": "b76a4c81",
   "metadata": {},
   "source": [
    "### Create cells"
   ]
  },
  {
   "cell_type": "markdown",
   "id": "31f41b5a",
   "metadata": {},
   "source": [
    "Cells can be created by using the \"+\" button or \"Insert\". It can also be created using keyboard commands \"a\" and \"b\". \"a\" will create a new cell above the current cell and \"b\" will create a cell below."
   ]
  },
  {
   "cell_type": "markdown",
   "id": "bdf8a7b8",
   "metadata": {},
   "source": [
    "### Assign and print variables"
   ]
  },
  {
   "cell_type": "code",
   "execution_count": 5,
   "id": "98baefba",
   "metadata": {},
   "outputs": [
    {
     "name": "stdout",
     "output_type": "stream",
     "text": [
      "30\n"
     ]
    }
   ],
   "source": [
    "# simple operations like assigning and printing a variable\n",
    "a = 10\n",
    "b = 20\n",
    "c = a + b\n",
    "print(c)"
   ]
  },
  {
   "cell_type": "code",
   "execution_count": 6,
   "id": "04c40c66",
   "metadata": {},
   "outputs": [
    {
     "data": {
      "text/plain": [
       "200"
      ]
     },
     "execution_count": 6,
     "metadata": {},
     "output_type": "execute_result"
    }
   ],
   "source": [
    "d = a * b\n",
    "d"
   ]
  }
 ],
 "metadata": {
  "kernelspec": {
   "display_name": "Python 3 (ipykernel)",
   "language": "python",
   "name": "python3"
  },
  "language_info": {
   "codemirror_mode": {
    "name": "ipython",
    "version": 3
   },
   "file_extension": ".py",
   "mimetype": "text/x-python",
   "name": "python",
   "nbconvert_exporter": "python",
   "pygments_lexer": "ipython3",
   "version": "3.9.6"
  }
 },
 "nbformat": 4,
 "nbformat_minor": 5
}
